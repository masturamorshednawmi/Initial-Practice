{
 "cells": [
  {
   "cell_type": "markdown",
   "id": "fccac942-f14b-4be5-b0a1-bd87780c78e0",
   "metadata": {},
   "source": [
    "print(\"hello world\")\n",
    "print(1+1)\n",
    "print(10*10)\n",
    "print(10/10)"
   ]
  },
  {
   "cell_type": "code",
   "execution_count": 10,
   "id": "12ddd361-13e6-4886-b292-8ea672dc6e83",
   "metadata": {},
   "outputs": [
    {
     "name": "stdout",
     "output_type": "stream",
     "text": [
      "4\n"
     ]
    }
   ],
   "source": [
    "# The sum of two even numbers will always be odd numbers.-False since the answer is 4\n",
    "print(2+2)"
   ]
  },
  {
   "cell_type": "code",
   "execution_count": 13,
   "id": "3d1bbcc2-4e30-4664-b463-3471288a0889",
   "metadata": {},
   "outputs": [
    {
     "name": "stdout",
     "output_type": "stream",
     "text": [
      "True\n"
     ]
    }
   ],
   "source": [
    "#A positive value is always greater than a negative value? -True \n",
    "print( 2>-2)"
   ]
  },
  {
   "cell_type": "code",
   "execution_count": 14,
   "id": "475a8e51-622b-453d-9f36-e7396d256dc5",
   "metadata": {},
   "outputs": [
    {
     "ename": "ZeroDivisionError",
     "evalue": "division by zero",
     "output_type": "error",
     "traceback": [
      "\u001b[1;31m---------------------------------------------------------------------------\u001b[0m",
      "\u001b[1;31mZeroDivisionError\u001b[0m                         Traceback (most recent call last)",
      "Cell \u001b[1;32mIn[14], line 2\u001b[0m\n\u001b[0;32m      1\u001b[0m \u001b[38;5;66;03m#Can you divide a number by 0? \u001b[39;00m\n\u001b[1;32m----> 2\u001b[0m \u001b[38;5;28mprint\u001b[39m(\u001b[38;5;241m100\u001b[39m\u001b[38;5;241m/\u001b[39m\u001b[38;5;241m0\u001b[39m)\n",
      "\u001b[1;31mZeroDivisionError\u001b[0m: division by zero"
     ]
    }
   ],
   "source": [
    "#Can you divide a number by 0? \n",
    "print(100/0)"
   ]
  },
  {
   "cell_type": "code",
   "execution_count": 17,
   "id": "63c6747f-51e0-4e9c-8b2a-3e8d931396fb",
   "metadata": {},
   "outputs": [
    {
     "name": "stdout",
     "output_type": "stream",
     "text": [
      "-0.5\n"
     ]
    }
   ],
   "source": [
    "#If x is less than 1 and y is greater than 1, x/y < 1?-true\n",
    "x=-1\n",
    "y=2\n",
    "print(x/y)"
   ]
  },
  {
   "cell_type": "code",
   "execution_count": 20,
   "id": "980383ff-9ab6-4450-849a-b02d9636d8c6",
   "metadata": {},
   "outputs": [
    {
     "name": "stdout",
     "output_type": "stream",
     "text": [
      "6\n",
      "6\n"
     ]
    }
   ],
   "source": [
    "#The word \"Google\" contains 5 unique characters. True or False?-false \n",
    "print(len(\"Google\"))\n",
    "print(len(\"google\"))"
   ]
  },
  {
   "cell_type": "code",
   "execution_count": 22,
   "id": "92daf580-4d25-48c1-a6e0-371d55f686f9",
   "metadata": {},
   "outputs": [
    {
     "name": "stdout",
     "output_type": "stream",
     "text": [
      "8\n"
     ]
    }
   ],
   "source": [
    "#If x>1 and y>1, then x*y>1?-True \n",
    "x=2\n",
    "y=4\n",
    "print(x*y)"
   ]
  },
  {
   "cell_type": "code",
   "execution_count": 23,
   "id": "88915f8d-4e40-480c-a4a6-00be15569e2f",
   "metadata": {},
   "outputs": [
    {
     "name": "stdout",
     "output_type": "stream",
     "text": [
      "30\n"
     ]
    }
   ],
   "source": [
    "#The product of 2 odd numbers and 1 even numbers= An even number?\n",
    "print(3*5*2)"
   ]
  },
  {
   "cell_type": "code",
   "execution_count": 35,
   "id": "5806c56a-06c0-489f-a69a-ab215bc0e2d9",
   "metadata": {},
   "outputs": [
    {
     "name": "stdout",
     "output_type": "stream",
     "text": [
      "{1, 3}\n",
      "{1, 2, 3, 5}\n"
     ]
    }
   ],
   "source": [
    "A={1,3,5}\n",
    "B={1,2,3}\n",
    "print(A.intersection(B))\n",
    "print(A.union(B))"
   ]
  },
  {
   "cell_type": "markdown",
   "id": "19c55d3d-8878-488b-972b-8959fb04a666",
   "metadata": {},
   "source": [
    "<br> **Practice** "
   ]
  },
  {
   "cell_type": "code",
   "execution_count": 24,
   "id": "2d3e9fdd-1456-40b0-9dde-e736f7424484",
   "metadata": {},
   "outputs": [
    {
     "name": "stdout",
     "output_type": "stream",
     "text": [
      "1\n"
     ]
    }
   ],
   "source": [
    "a,b,c=1,2,3\n",
    "print(a)"
   ]
  },
  {
   "cell_type": "code",
   "execution_count": 25,
   "id": "9cf39657-b1ce-4a16-929a-3454043244b1",
   "metadata": {},
   "outputs": [
    {
     "data": {
      "text/plain": [
       "True"
      ]
     },
     "execution_count": 25,
     "metadata": {},
     "output_type": "execute_result"
    }
   ],
   "source": [
    "a=10\n",
    "b=10\n",
    "a is b"
   ]
  },
  {
   "cell_type": "code",
   "execution_count": 26,
   "id": "2fcd0658-b1e5-4a52-ae26-48713d0a0008",
   "metadata": {},
   "outputs": [
    {
     "data": {
      "text/plain": [
       "['h', 'e', 'l', 'l', 'o']"
      ]
     },
     "execution_count": 26,
     "metadata": {},
     "output_type": "execute_result"
    }
   ],
   "source": [
    "a=\"hello\"\n",
    "list(a)"
   ]
  },
  {
   "cell_type": "code",
   "execution_count": 40,
   "id": "6ce4f38e-14b2-443b-9396-0e4b05b2f1d1",
   "metadata": {},
   "outputs": [
    {
     "name": "stdout",
     "output_type": "stream",
     "text": [
      "29.5\n",
      "10\n",
      "28\n",
      "28.875\n"
     ]
    }
   ],
   "source": [
    "#CONVERTING FLOAT TO INTEGERS: \n",
    "a=10\n",
    "b=19.5\n",
    "c=a+b\n",
    "print(c)\n",
    "\n",
    "x=int(10.5)\n",
    "print(x)\n",
    "\n",
    "y=int(10.5*2.75)\n",
    "print(y)\n",
    "y_1= 10.5*2.75\n",
    "print(y_1)\n",
    "#notice how lower rounding takes place when you convert float to integers) "
   ]
  },
  {
   "cell_type": "code",
   "execution_count": 42,
   "id": "cfce459f-1a01-417e-84a5-dead9c8e824e",
   "metadata": {},
   "outputs": [
    {
     "name": "stdout",
     "output_type": "stream",
     "text": [
      "1\n"
     ]
    }
   ],
   "source": [
    "#Convertng boolean to integer\n",
    "x=int(True)\n",
    "print(x)"
   ]
  },
  {
   "cell_type": "code",
   "execution_count": 46,
   "id": "94ae792c-1578-4480-9fa5-16bc37f62992",
   "metadata": {},
   "outputs": [
    {
     "name": "stdout",
     "output_type": "stream",
     "text": [
      "1001\n"
     ]
    }
   ],
   "source": [
    "#Convert string to integer\n",
    "x=int(\"100\"+\"1\")\n",
    "print(x)"
   ]
  },
  {
   "cell_type": "code",
   "execution_count": 52,
   "id": "b918d296-3c1e-414b-b87d-431e9e633b3b",
   "metadata": {},
   "outputs": [
    {
     "name": "stdout",
     "output_type": "stream",
     "text": [
      "False\n",
      "True\n",
      "True\n",
      "True\n"
     ]
    }
   ],
   "source": [
    "#Logical Operaters: \n",
    "a=10\n",
    "b=12\n",
    "c=13\n",
    "d=14 \n",
    "\n",
    "print(a>c and b>d)\n",
    "print(a<c and b<d)\n",
    "print(a>c or b<d)\n",
    "print(a<b and not c>d)"
   ]
  },
  {
   "cell_type": "code",
   "execution_count": 62,
   "id": "66811976-dd3c-4bf8-8577-1569d9371e3e",
   "metadata": {},
   "outputs": [
    {
     "name": "stdout",
     "output_type": "stream",
     "text": [
      "HELLO MY NAME IS NAWMI\n",
      "hello my name is nawmi\n"
     ]
    }
   ],
   "source": [
    "#How to capitalize/ lowercase letters in a string?\n",
    "string=\"Hello my name is Nawmi\" \n",
    "print(string.upper())\n",
    "print(string.lower())\n"
   ]
  },
  {
   "cell_type": "code",
   "execution_count": 69,
   "id": "83a43766-b8b4-4aaf-956a-a7965539686a",
   "metadata": {},
   "outputs": [
    {
     "name": "stdout",
     "output_type": "stream",
     "text": [
      "Hello my name is nawmi\n",
      "Hello My Name Is Nawmi\n"
     ]
    }
   ],
   "source": [
    "#How to capitalize the first letter in a string?\n",
    "string=\"hello my name is Nawmi\" \n",
    "print(string.capitalize())\n",
    "print(string.title())"
   ]
  },
  {
   "cell_type": "code",
   "execution_count": 88,
   "id": "88a04cbb-8e77-4be3-875e-109ccf65cf0b",
   "metadata": {},
   "outputs": [
    {
     "name": "stdout",
     "output_type": "stream",
     "text": [
      "1\n",
      "1\n",
      "0\n",
      "1\n"
     ]
    }
   ],
   "source": [
    "#How to find frequency of a substring in a string?\n",
    "txt=\"hello my name is Nawmi\" \n",
    "substring=\"o\"\n",
    "x=txt.count(substring)\n",
    "print(x)\n",
    "\n",
    "new_txt=\"Nawmi\"\n",
    "y=new_txt.count(\"a\")\n",
    "print(y)\n",
    "print(new_txt.count(\"s\"))\n",
    "\n",
    "string=\"Azwad\"\n",
    "print(string.count(\"A\"))"
   ]
  },
  {
   "cell_type": "code",
   "execution_count": 97,
   "id": "7964c58e-bdfa-41b3-b4f0-3b25b37327d8",
   "metadata": {},
   "outputs": [
    {
     "name": "stdout",
     "output_type": "stream",
     "text": [
      "True\n",
      "9\n"
     ]
    }
   ],
   "source": [
    "#How to find if a string starts and endswith a specific character? \n",
    "#How to find the position of a character in a string? \n",
    "Nawmi=\"AZ is my love\" \n",
    "print(Nawmi.startswith(\"A\"))\n",
    "print(Nawmi.index(\"love\"))"
   ]
  },
  {
   "cell_type": "code",
   "execution_count": 3,
   "id": "953290f0-377e-4ca1-97f2-445306049a0f",
   "metadata": {},
   "outputs": [
    {
     "name": "stdout",
     "output_type": "stream",
     "text": [
      "Ilove my parents8\n",
      "I\n",
      "Ilove\n"
     ]
    }
   ],
   "source": [
    "#How to remove spaces from a string?\n",
    "#How to splice strings?\n",
    "Nawmi=\"Ilove my parents8\"\n",
    "Withoutspace=\"print(Nawmi.replace(\" \", \"\"))\"\n",
    "print(Nawmi.lstrip())\n",
    "Withoutspace.isalpha()\n",
    "Withoutspace.isdigit()\n",
    "Withoutspace.isalnum()\n",
    "print(Nawmi[0])\n",
    "print(Nawmi[0:5])"
   ]
  },
  {
   "cell_type": "markdown",
   "id": "de6f486a-5c76-461c-a488-b751a26a6b69",
   "metadata": {},
   "source": [
    "#**List Splicing** "
   ]
  },
  {
   "cell_type": "code",
   "execution_count": 22,
   "id": "58329ddd-8ed9-480b-a918-2230ba21e7de",
   "metadata": {},
   "outputs": [
    {
     "name": "stdout",
     "output_type": "stream",
     "text": [
      "['nawmi', 'mamoni', 'baba', 'namiha']\n",
      "[['nawmi', 'mamoni', 'baba', 'namiha'], [111, 222, 333, 444]]\n",
      "nawmi\n",
      "nawmi 111\n"
     ]
    }
   ],
   "source": [
    "name=[\"nawmi\", \"mamoni\", \"baba\",\"namiha\"]\n",
    "phone_number= [111,222,333,444]\n",
    "phonebook=[name,phone_number]\n",
    "print(name)\n",
    "#How to print a specific element in a list?\n",
    "print(phonebook[0:])# please note \n",
    "print(phonebook[0][0])\n",
    "print(phonebook[0][0] , phonebook[1][0])"
   ]
  },
  {
   "cell_type": "code",
   "execution_count": 23,
   "id": "6c4d6087-558c-4a98-9e2b-fd0db1015d64",
   "metadata": {},
   "outputs": [
    {
     "data": {
      "text/plain": [
       "5"
      ]
     },
     "execution_count": 23,
     "metadata": {},
     "output_type": "execute_result"
    }
   ],
   "source": [
    "#How to find out the length of a list?\n",
    "len(phonebook)\n",
    "len(phonebook[1])\n",
    "len(phonebook[0])\n",
    "len(phonebook[0][0])"
   ]
  },
  {
   "cell_type": "code",
   "execution_count": 28,
   "id": "9b0c3f83-e54c-43b0-82b1-16c9d7d7fadc",
   "metadata": {},
   "outputs": [
    {
     "data": {
      "text/plain": [
       "True"
      ]
     },
     "execution_count": 28,
     "metadata": {},
     "output_type": "execute_result"
    }
   ],
   "source": [
    "\"nawmi\" in name\n"
   ]
  },
  {
   "cell_type": "code",
   "execution_count": 30,
   "id": "19b030b2-979a-460f-9ed9-3b3ffa92cb76",
   "metadata": {},
   "outputs": [
    {
     "name": "stdout",
     "output_type": "stream",
     "text": [
      "['Azwad', 'nawmi', 'mamoni', 'baba', 'namiha']\n"
     ]
    }
   ],
   "source": [
    "#How to insert a new element in a list?\n",
    "name.insert(0,\"Azwad\")\n",
    "print(name)"
   ]
  },
  {
   "cell_type": "code",
   "execution_count": 37,
   "id": "b46b79da-7c76-425f-92fc-0e242dfb5afc",
   "metadata": {},
   "outputs": [
    {
     "name": "stdout",
     "output_type": "stream",
     "text": [
      "[9, 8, 7, 56, 4, 3, 2, 1]\n",
      "['Sama', 'Zarin', 'Rimi', 'Nawmi', 'Azwad']\n"
     ]
    }
   ],
   "source": [
    "#How to reverse a list?\n",
    "new_list=[\"Azwad\",\"Nawmi\",\"Rimi\",\"Zarin\",\"Sama\"]\n",
    "new_list1=[1,2,3,4,56,7,8,9]\n",
    "new_list1.reverse()\n",
    "new_list.reverse()\n",
    "print(new_list1)\n",
    "print(new_list)"
   ]
  },
  {
   "cell_type": "code",
   "execution_count": 38,
   "id": "25ae40a8-fa63-4413-b9cd-0c18c18d8fd8",
   "metadata": {},
   "outputs": [
    {
     "name": "stdout",
     "output_type": "stream",
     "text": [
      "2\n"
     ]
    }
   ],
   "source": [
    "#How to determine the frequency of an element in a list?\n",
    "freelist=[4,4,5,5,5,6,6,6,7,8,9]\n",
    "print(freelist.count(4))"
   ]
  },
  {
   "cell_type": "code",
   "execution_count": 40,
   "id": "dac844cd-3c93-41bb-a3f3-37c8075cf205",
   "metadata": {},
   "outputs": [
    {
     "name": "stdout",
     "output_type": "stream",
     "text": [
      "[5, 5, 5, 6, 6, 6, 7, 8, 9]\n"
     ]
    }
   ],
   "source": [
    "#How to remove a character from list?\n",
    "freelist.remove(4)\n",
    "print(freelist)"
   ]
  },
  {
   "cell_type": "code",
   "execution_count": 48,
   "id": "47413b13-4abd-42ae-8cf7-1d3ad316848c",
   "metadata": {},
   "outputs": [
    {
     "name": "stdout",
     "output_type": "stream",
     "text": [
      "5\n",
      "9\n",
      "57\n"
     ]
    }
   ],
   "source": [
    "#How to find minimum and maximum value in a list?\n",
    "print(min(freelist))\n",
    "print(max(freelist))\n",
    "print(sum(freelist))"
   ]
  },
  {
   "cell_type": "code",
   "execution_count": 49,
   "id": "5f4c039e-39b5-4829-b4eb-f15e6efeb453",
   "metadata": {},
   "outputs": [
    {
     "name": "stdout",
     "output_type": "stream",
     "text": [
      "[1, 2, 3, 4, 5, 6, 7, 8, 9, 1, 2, 3]\n"
     ]
    }
   ],
   "source": [
    "a=[1,2,3,4,5,6,7,8,9]\n",
    "b=[1,2,3]\n",
    "c=a+b\n",
    "print(c)"
   ]
  },
  {
   "cell_type": "code",
   "execution_count": 53,
   "id": "d32f569f-5294-4353-ba52-e005414b0b37",
   "metadata": {},
   "outputs": [
    {
     "name": "stdout",
     "output_type": "stream",
     "text": [
      "[1, 1, 2, 2, 3, 3, 4, 5, 6, 7, 8, 9]\n"
     ]
    }
   ],
   "source": [
    "c.sort()\n",
    "print(c)\n"
   ]
  },
  {
   "cell_type": "code",
   "execution_count": 65,
   "id": "f3f8bb03-8ef0-44e7-9c73-e8037c112778",
   "metadata": {},
   "outputs": [
    {
     "name": "stdout",
     "output_type": "stream",
     "text": [
      "<class 'tuple'>\n",
      "<class 'tuple'>\n",
      "<class 'str'>\n",
      "<class 'list'>\n",
      "<class 'int'>\n",
      "<class 'float'>\n"
     ]
    }
   ],
   "source": [
    "nawmi=(\"mi\",1,3,4,4.1)\n",
    "print(type(nawmi))\n",
    "nawmi_1=(\"man\",\"nam\",\"yont\",\"akshu\")\n",
    "print(type(nawmi_1))\n",
    "nawmi_2=\"Family is my love\"\n",
    "print(type(nawmi_2))\n",
    "nawmi_3=[1,2,3,4,5,6,\"yaya\",\"Nana\"]\n",
    "print(type(nawmi_3))\n",
    "a=34\n",
    "print(type(a))\n",
    "b=34.1\n",
    "print(type(b))"
   ]
  },
  {
   "cell_type": "code",
   "execution_count": 71,
   "id": "fff8aa7c-e99e-4476-8766-4e55522f8434",
   "metadata": {},
   "outputs": [
    {
     "name": "stdout",
     "output_type": "stream",
     "text": [
      "{33, 66, 99, 71, 41, 11, 44, 77, 81, 51, 21, 22, 55, 88, 91, 61, 31}\n",
      "{33, 66, 99, 71, 41, 11, 44, 77, 81, 51, 21, 22, 55, 88, 91, 61, 31}\n",
      "{11}\n",
      "{11}\n",
      "{33, 66, 99, 44, 77, 22, 55, 88}\n",
      "{71, 41, 81, 51, 21, 91, 61, 31}\n"
     ]
    }
   ],
   "source": [
    "SetA={11,22,33,44,55,66,77,88,99}\n",
    "SetB={11,21,31,41,51,61,71,81,91}\n",
    "print(SetA.union(SetB))\n",
    "print(SetB.union(SetA))\n",
    "print(SetA.intersection(SetB))\n",
    "print(SetB.intersection(SetA))\n",
    "print(SetA.difference(SetB))\n",
    "print(SetB.difference(SetA))"
   ]
  },
  {
   "cell_type": "markdown",
   "id": "6ade9033-aaee-4c85-88f1-bc2ac58436e5",
   "metadata": {},
   "source": [
    "#Dictionary"
   ]
  },
  {
   "cell_type": "code",
   "execution_count": 74,
   "id": "e1edd078-0b28-439c-a7b7-01ab8154d063",
   "metadata": {},
   "outputs": [],
   "source": [
    "Phone_book={\"Nawmi\": 111, \"Azwad\":222}\n"
   ]
  },
  {
   "cell_type": "code",
   "execution_count": null,
   "id": "8d0f2f3b-445c-4b59-9682-0c2ccd018e54",
   "metadata": {},
   "outputs": [],
   "source": []
  }
 ],
 "metadata": {
  "kernelspec": {
   "display_name": "Python 3 (ipykernel)",
   "language": "python",
   "name": "python3"
  },
  "language_info": {
   "codemirror_mode": {
    "name": "ipython",
    "version": 3
   },
   "file_extension": ".py",
   "mimetype": "text/x-python",
   "name": "python",
   "nbconvert_exporter": "python",
   "pygments_lexer": "ipython3",
   "version": "3.12.4"
  }
 },
 "nbformat": 4,
 "nbformat_minor": 5
}
